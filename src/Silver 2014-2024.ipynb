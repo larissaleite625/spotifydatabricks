{
 "cells": [
  {
   "cell_type": "code",
   "execution_count": 0,
   "metadata": {
    "application/vnd.databricks.v1+cell": {
     "cellMetadata": {
      "byteLimit": 2048000,
      "rowLimit": 10000
     },
     "inputWidgets": {},
     "nuid": "2d007d31-eecf-44aa-a00d-4c2f6f2fab62",
     "showTitle": false,
     "tableResultSettingsMap": {},
     "title": ""
    }
   },
   "outputs": [],
   "source": [
    "from pyspark.sql.functions import col, to_timestamp, year, month, hour, min, max\n",
    "from pyspark.sql.utils import AnalysisException"
   ]
  },
  {
   "cell_type": "code",
   "execution_count": 0,
   "metadata": {
    "application/vnd.databricks.v1+cell": {
     "cellMetadata": {
      "byteLimit": 2048000,
      "implicitDf": true,
      "rowLimit": 10000
     },
     "inputWidgets": {},
     "nuid": "a285b60a-6956-4e29-9788-44b9f812c54e",
     "showTitle": false,
     "tableResultSettingsMap": {},
     "title": ""
    }
   },
   "outputs": [],
   "source": [
    "%sql CREATE CATALOG IF NOT EXISTS silver;\n",
    "CREATE SCHEMA IF NOT EXISTS silver.spotify_eng;"
   ]
  },
  {
   "cell_type": "code",
   "execution_count": 0,
   "metadata": {
    "application/vnd.databricks.v1+cell": {
     "cellMetadata": {
      "byteLimit": 2048000,
      "rowLimit": 10000
     },
     "inputWidgets": {},
     "nuid": "11eace1e-c969-4dce-b666-850b9a76b735",
     "showTitle": false,
     "tableResultSettingsMap": {},
     "title": ""
    }
   },
   "outputs": [],
   "source": [
    "from pyspark.sql.functions import (\n",
    "    to_timestamp,\n",
    "    col,\n",
    "    year,\n",
    "    month,\n",
    "    hour\n",
    ")\n",
    "\n",
    "bronze_path = \"bronze.spotify.spotify_analise\"\n",
    "\n",
    "df = (\n",
    "    spark.table(bronze_path)\n",
    ")\n",
    "\n",
    "df = df.withColumn('ts', to_timestamp(col('ts')))\n",
    "df = df.withColumn('year', year(col('ts')))\n",
    "df = df.withColumn('month', month(col('ts')))\n",
    "df = df.withColumn('hour', hour(col('ts')))\n",
    "df = df.withColumn('minutes_played', col('ms_played') / 60000)\n",
    "df = df.withColumn('hours_played', col('ms_played') / 3600000)\n",
    "\n",
    "columns_to_check = [\n",
    "    'master_metadata_track_name',\n",
    "    'master_metadata_album_artist_name',\n",
    "    'master_metadata_album_album_name',\n",
    "    'spotify_track_uri'\n",
    "]\n",
    "\n",
    "df_nona = df.dropna(subset=columns_to_check)\n",
    "df_stringnull = df_nona.filter(\n",
    "    (col(\"master_metadata_track_name\") != 'null') &\n",
    "    (col(\"master_metadata_album_artist_name\") != 'null') &\n",
    "    (col(\"master_metadata_album_album_name\") != 'null') &\n",
    "    (col(\"spotify_track_uri\") != 'null')\n",
    ")\n",
    "\n",
    "df_select = df_stringnull.select(\n",
    "    \"ts\",\n",
    "    \"username\",\n",
    "    \"platform\",\n",
    "    \"ms_played\",\n",
    "    \"master_metadata_track_name\",\n",
    "    \"master_metadata_album_artist_name\",\n",
    "    \"master_metadata_album_album_name\",\n",
    "    \"spotify_track_uri\",\n",
    "    \"reason_start\",\n",
    "    \"reason_end\",\n",
    "    \"shuffle\",\n",
    "    \"skipped\",\n",
    "    \"offline\",\n",
    "    \"offline_timestamp\",\n",
    "    \"incognito_mode\",\n",
    "    \"year\",\n",
    "    \"month\",\n",
    "    \"hour\",\n",
    "    \"minutes_played\",\n",
    "    \"hours_played\"\n",
    ")\n",
    "\n",
    "df_select.write.mode(\"overwrite\").saveAsTable(\n",
    "    \"silver.spotify_eng.spotify_analise_2014_2024\"\n",
    ")"
   ]
  },
  {
   "cell_type": "code",
   "execution_count": 0,
   "metadata": {
    "application/vnd.databricks.v1+cell": {
     "cellMetadata": {
      "byteLimit": 2048000,
      "rowLimit": 10000
     },
     "inputWidgets": {},
     "nuid": "dab884a8-5476-414c-9c55-3a58dd82b312",
     "showTitle": false,
     "tableResultSettingsMap": {
      "0": {
       "dataGridStateBlob": "{\"version\":1,\"tableState\":{\"columnPinning\":{\"left\":[\"#row_number#\"],\"right\":[]},\"columnSizing\":{},\"columnVisibility\":{}},\"settings\":{\"columns\":{}},\"syncTimestamp\":1757815202761}",
       "filterBlob": null,
       "queryPlanFiltersBlob": null,
       "tableResultIndex": 0
      }
     },
     "title": ""
    }
   },
   "outputs": [],
   "source": [
    "display(df_select)\n",
    "#offline, skipped"
   ]
  },
  {
   "cell_type": "code",
   "execution_count": 0,
   "metadata": {
    "application/vnd.databricks.v1+cell": {
     "cellMetadata": {
      "byteLimit": 2048000,
      "rowLimit": 10000
     },
     "inputWidgets": {},
     "nuid": "46b92639-14db-4108-a126-031bd31ec629",
     "showTitle": false,
     "tableResultSettingsMap": {
      "0": {
       "dataGridStateBlob": "{\"version\":1,\"tableState\":{\"columnPinning\":{\"left\":[\"#row_number#\"],\"right\":[]},\"columnSizing\":{\"min_ts\":205},\"columnVisibility\":{}},\"settings\":{\"columns\":{}},\"syncTimestamp\":1757806648095}",
       "filterBlob": null,
       "queryPlanFiltersBlob": null,
       "tableResultIndex": 0
      }
     },
     "title": ""
    }
   },
   "outputs": [],
   "source": [
    "display(\n",
    "    df_select.select(\n",
    "        min(\"ts\").alias(\"min_ts\"),\n",
    "        max(\"ts\").alias(\"max_ts\")\n",
    "    )\n",
    ")"
   ]
  },
  {
   "cell_type": "code",
   "execution_count": 0,
   "metadata": {
    "application/vnd.databricks.v1+cell": {
     "cellMetadata": {
      "byteLimit": 2048000,
      "rowLimit": 10000
     },
     "inputWidgets": {},
     "nuid": "c604c6f6-ddca-43e4-a771-97860607537e",
     "showTitle": false,
     "tableResultSettingsMap": {},
     "title": ""
    }
   },
   "outputs": [],
   "source": [
    "display(spark.sql(\"DESCRIBE TABLE silver.spotify_eng.spotify_analise_2014_2024\"))"
   ]
  }
 ],
 "metadata": {
  "application/vnd.databricks.v1+notebook": {
   "computePreferences": null,
   "dashboards": [],
   "environmentMetadata": {
    "base_environment": "",
    "environment_version": "3"
   },
   "inputWidgetPreferences": null,
   "language": "python",
   "notebookMetadata": {
    "mostRecentlyExecutedCommandWithImplicitDF": {
     "commandId": 8453144829490654,
     "dataframes": [
      "_sqldf"
     ]
    },
    "pythonIndentUnit": 4
   },
   "notebookName": "Silver 2014-2024",
   "widgets": {}
  },
  "language_info": {
   "name": "python"
  }
 },
 "nbformat": 4,
 "nbformat_minor": 0
}

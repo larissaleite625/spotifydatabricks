{
 "cells": [
  {
   "cell_type": "code",
   "execution_count": 0,
   "metadata": {
    "application/vnd.databricks.v1+cell": {
     "cellMetadata": {
      "byteLimit": 2048000,
      "rowLimit": 10000
     },
     "inputWidgets": {},
     "nuid": "941c7915-a10e-45dd-b7c5-e9acf4fc741b",
     "showTitle": false,
     "tableResultSettingsMap": {},
     "title": ""
    }
   },
   "outputs": [],
   "source": [
    "pip install OpenAI"
   ]
  },
  {
   "cell_type": "code",
   "execution_count": 0,
   "metadata": {
    "application/vnd.databricks.v1+cell": {
     "cellMetadata": {
      "byteLimit": 2048000,
      "rowLimit": 10000
     },
     "inputWidgets": {},
     "nuid": "f1a279d5-231e-4d09-9c5b-1f1f090e431c",
     "showTitle": false,
     "tableResultSettingsMap": {},
     "title": ""
    }
   },
   "outputs": [],
   "source": [
    "%pip install -U mlflow\n",
    "dbutils.library.restartPython()"
   ]
  },
  {
   "cell_type": "code",
   "execution_count": 0,
   "metadata": {
    "application/vnd.databricks.v1+cell": {
     "cellMetadata": {
      "byteLimit": 2048000,
      "rowLimit": 10000
     },
     "inputWidgets": {},
     "nuid": "5a07882b-bd78-4531-a694-d03b92db2c27",
     "showTitle": false,
     "tableResultSettingsMap": {},
     "title": ""
    }
   },
   "outputs": [],
   "source": [
    "import json, math, time, re\n",
    "from typing import List, Dict, Any\n",
    "from openai import OpenAI\n",
    "import mlflow\n",
    "mlflow.openai.autolog()\n",
    "\n",
    "from pyspark.sql.functions import col, lit, coalesce, substring_index, rand"
   ]
  },
  {
   "cell_type": "code",
   "execution_count": 0,
   "metadata": {
    "application/vnd.databricks.v1+cell": {
     "cellMetadata": {
      "byteLimit": 2048000,
      "rowLimit": 10000
     },
     "inputWidgets": {},
     "nuid": "061b053d-29ac-4760-871f-a6037158b5c2",
     "showTitle": false,
     "tableResultSettingsMap": {},
     "title": ""
    }
   },
   "outputs": [],
   "source": [
    "from delta.tables import DeltaTable"
   ]
  },
  {
   "cell_type": "code",
   "execution_count": 0,
   "metadata": {
    "application/vnd.databricks.v1+cell": {
     "cellMetadata": {
      "byteLimit": 2048000,
      "rowLimit": 10000
     },
     "inputWidgets": {},
     "nuid": "f795e313-c7eb-4368-8b9e-92c664c4367d",
     "showTitle": false,
     "tableResultSettingsMap": {},
     "title": ""
    }
   },
   "outputs": [],
   "source": [
    "API_KEY = dbutils.secrets.get(scope=\"SPOTIFY\", key=\"APIKEY_DEEPSEEK\")\n",
    "API_URL = \"https://api.deepseek.com\"\n",
    "client = OpenAI(api_key=API_KEY, base_url=API_URL)"
   ]
  },
  {
   "cell_type": "code",
   "execution_count": 0,
   "metadata": {
    "application/vnd.databricks.v1+cell": {
     "cellMetadata": {
      "byteLimit": 2048000,
      "rowLimit": 10000
     },
     "inputWidgets": {},
     "nuid": "e45e1332-577e-410b-87cf-3846fcf96b2d",
     "showTitle": false,
     "tableResultSettingsMap": {},
     "title": ""
    }
   },
   "outputs": [],
   "source": [
    "def classify_with_deepseek(items: List[Dict[str, Any]]) -> Dict[str, Any]:\n",
    "    payload = json.dumps(items, ensure_ascii=False)\n",
    "    response = client.chat.completions.create(\n",
    "        model=MODEL,\n",
    "        temperature=TEMPERATURE,\n",
    "        response_format={\"type\": \"json_object\"},\n",
    "        messages=[\n",
    "            {\"role\": \"system\", \"content\": system_prompt},\n",
    "            {\"role\": \"user\", \"content\": payload}\n",
    "        ]\n",
    "    )\n",
    "    content = response.choices[0].message.content\n",
    "    return json.loads(content)"
   ]
  },
  {
   "cell_type": "code",
   "execution_count": 0,
   "metadata": {
    "application/vnd.databricks.v1+cell": {
     "cellMetadata": {
      "byteLimit": 2048000,
      "rowLimit": 10000
     },
     "inputWidgets": {},
     "nuid": "816702f8-f20b-493f-bca8-9cbb8583ad25",
     "showTitle": false,
     "tableResultSettingsMap": {},
     "title": ""
    }
   },
   "outputs": [],
   "source": [
    "def parsed_to_spark_df(parsed: Dict[str, Any]):\n",
    "    data_list = parsed.get(\"data\", [])\n",
    "    \n",
    "    if not data_list:\n",
    "        raise ValueError(\"A API DeepSeek retornou uma resposta vazia ou sem a chave 'data'.\")\n",
    "\n",
    "    data_out: List[Dict[str, Any]] = []\n",
    "    for obj in data_list:\n",
    "        data_out.append({\n",
    "            \"master_metadata_track_name\":        obj.get(\"master_metadata_track_name\"),\n",
    "            \"master_metadata_album_artist_name\": obj.get(\"master_metadata_album_artist_name\"),\n",
    "            \"master_metadata_album_album_name\":  obj.get(\"master_metadata_album_album_name\"),\n",
    "            \"style\":                             obj.get(\"Style\", \"unknown\"),\n",
    "        })\n",
    "\n",
    "    return spark.createDataFrame(data_out)"
   ]
  },
  {
   "cell_type": "code",
   "execution_count": 0,
   "metadata": {
    "application/vnd.databricks.v1+cell": {
     "cellMetadata": {
      "byteLimit": 2048000,
      "rowLimit": 10000
     },
     "inputWidgets": {},
     "nuid": "9de1db4f-e1bb-4a79-ad2e-1d98118f70f2",
     "showTitle": false,
     "tableResultSettingsMap": {},
     "title": ""
    }
   },
   "outputs": [],
   "source": [
    "df_historico = spark.table(\"silver.spotify_eng.streaming_history_2014_202509\")\n",
    "df_estilos = spark.table(\"gold.spotify.spotify_musicas\")"
   ]
  },
  {
   "cell_type": "code",
   "execution_count": 0,
   "metadata": {
    "application/vnd.databricks.v1+cell": {
     "cellMetadata": {
      "byteLimit": 2048000,
      "rowLimit": 10000
     },
     "inputWidgets": {},
     "nuid": "839ffe23-f810-4dea-b65f-ebafba43cf7d",
     "showTitle": false,
     "tableResultSettingsMap": {},
     "title": ""
    }
   },
   "outputs": [],
   "source": [
    "# Identifica TODAS as músicas no histórico que não têm um estilo correspondente em df_estilos\n",
    "df_sem_estilo_completo = (\n",
    "    df_historico.alias(\"h\")\n",
    "    .join(\n",
    "        df_estilos.alias(\"e\"),\n",
    "        [\n",
    "            col(\"h.master_metadata_track_name\") == col(\"e.master_metadata_track_name\"),\n",
    "            col(\"h.master_metadata_album_artist_name\") == col(\"e.master_metadata_album_artist_name\"),\n",
    "            col(\"h.master_metadata_album_album_name\") == col(\"e.master_metadata_album_album_name\"),\n",
    "        ],\n",
    "        \"left_anti\" \n",
    "    )\n",
    "    .select(\n",
    "        \"h.master_metadata_track_name\",\n",
    "        \"h.master_metadata_album_artist_name\",\n",
    "        \"h.master_metadata_album_album_name\"\n",
    "    )\n",
    "    .distinct()\n",
    ")\n",
    "\n",
    "total_sem_estilo = df_sem_estilo_completo.count()\n",
    "\n",
    "print(f\"Total de músicas distintas sem estilo encontradas: {total_sem_estilo}\")\n",
    "\n",
    "if total_sem_estilo == 0:\n",
    "    dbutils.notebook.exit(\"Nenhuma música nova para classificar. Job concluído com sucesso.\")\n",
    "\n",
    "df_para_enriquecer = df_sem_estilo_completo.orderBy(rand()).limit(50)\n",
    "\n",
    "json_data = [row.asDict() for row in df_para_enriquecer.collect()]\n",
    "print(f\"\\nSelecionado um lote de {len(json_data)} músicas para enviar à API.\")"
   ]
  },
  {
   "cell_type": "code",
   "execution_count": 0,
   "metadata": {
    "application/vnd.databricks.v1+cell": {
     "cellMetadata": {
      "byteLimit": 2048000,
      "rowLimit": 10000
     },
     "inputWidgets": {},
     "nuid": "b7350a12-ce9a-491f-bafb-1eb66163c184",
     "showTitle": false,
     "tableResultSettingsMap": {},
     "title": ""
    }
   },
   "outputs": [],
   "source": [
    "system_prompt = \"\"\"\n",
    "You are an expert in music genres. Return ONLY valid JSON.\n",
    "\n",
    "INPUT: a JSON array of objects with fields:\n",
    "- \"master_metadata_track_name\"\n",
    "- \"master_metadata_album_artist_name\"\n",
    "- \"master_metadata_album_album_name\"\n",
    "\n",
    "REQUIREMENTS:\n",
    "- Return a SINGLE JSON OBJECT with exactly one key: \"data\".\n",
    "- \"data\" MUST be a JSON array with the same length and order as the input.\n",
    "- Each object MUST preserve the original fields and add:\n",
    "  \"Style\": the most appropriate single genre in English (e.g., \"Brazilian Popular Music\", \"Samba\", \"Rock\", \"Hip Hop\").\n",
    "- No extra keys besides \"data\". No markdown/code fences. No text outside JSON.\n",
    "\n",
    "EXAMPLE INPUT (array):\n",
    "[\n",
    "  {\"master_metadata_track_name\":\"Cabeça Vazia\",\"master_metadata_album_artist_name\":\"Djavan\",\"master_metadata_album_album_name\":\"D\"}\n",
    "]\n",
    "\n",
    "EXAMPLE OUTPUT (object):\n",
    "{\"data\":[\n",
    "  {\"master_metadata_track_name\":\"Cabeça Vazia\",\"master_metadata_album_artist_name\":\"Djavan\",\"master_metadata_album_album_name\":\"D\",\"Style\":\"Brazilian Popular Music\"}\n",
    "]}\n",
    "\"\"\".strip()\n",
    "\n",
    "TEMPERATURE = 0.0\n",
    "MODEL = \"deepseek-chat\""
   ]
  },
  {
   "cell_type": "code",
   "execution_count": 0,
   "metadata": {
    "application/vnd.databricks.v1+cell": {
     "cellMetadata": {
      "byteLimit": 2048000,
      "rowLimit": 10000
     },
     "inputWidgets": {},
     "nuid": "7809c2f2-ec94-43cc-9228-e5d681b474e2",
     "showTitle": false,
     "tableResultSettingsMap": {},
     "title": ""
    }
   },
   "outputs": [],
   "source": [
    "parsed_result = classify_with_deepseek(json_data)"
   ]
  },
  {
   "cell_type": "code",
   "execution_count": 0,
   "metadata": {
    "application/vnd.databricks.v1+cell": {
     "cellMetadata": {
      "byteLimit": 2048000,
      "rowLimit": 10000
     },
     "inputWidgets": {},
     "nuid": "e0204aa4-20ad-45a8-aaa4-96542303ed78",
     "showTitle": false,
     "tableResultSettingsMap": {},
     "title": ""
    }
   },
   "outputs": [],
   "source": [
    "df_novos_estilos = parsed_to_spark_df(parsed_result)\n",
    "\n",
    "print(\"Estilos recebidos da API para o lote atual:\")\n",
    "display(df_novos_estilos)"
   ]
  },
  {
   "cell_type": "code",
   "execution_count": 0,
   "metadata": {
    "application/vnd.databricks.v1+cell": {
     "cellMetadata": {
      "byteLimit": 2048000,
      "rowLimit": 10000
     },
     "inputWidgets": {},
     "nuid": "bcd5a3c5-2f04-44a4-97b4-0bc1d4229b37",
     "showTitle": false,
     "tableResultSettingsMap": {},
     "title": ""
    }
   },
   "outputs": [],
   "source": [
    "updates = df_novos_estilos.alias(\"updates\")\n",
    "target_table = DeltaTable.forName(spark, \"gold.spotify.spotify_musicas\")\n",
    "\n",
    "(\n",
    "    target_table.alias(\"target\")\n",
    "    .merge(\n",
    "        updates,\n",
    "        \"target.master_metadata_track_name = updates.master_metadata_track_name AND \"\n",
    "        \"target.master_metadata_album_artist_name = updates.master_metadata_album_artist_name AND \"\n",
    "        \"target.master_metadata_album_album_name = updates.master_metadata_album_album_name\"\n",
    "    )\n",
    "    .whenNotMatchedInsertAll()\n",
    "    .execute()\n",
    ")\n",
    "print(\"Tabela 'gold.spotify.spotify_musicas' atualizada com sucesso.\")\n"
   ]
  },
  {
   "cell_type": "code",
   "execution_count": 0,
   "metadata": {
    "application/vnd.databricks.v1+cell": {
     "cellMetadata": {
      "byteLimit": 2048000,
      "rowLimit": 10000
     },
     "inputWidgets": {},
     "nuid": "6f5371ee-3cb7-4380-bd94-17cbf1def225",
     "showTitle": false,
     "tableResultSettingsMap": {},
     "title": ""
    }
   },
   "outputs": [],
   "source": [
    "df_estilos_atualizada = spark.table(\"gold.spotify.spotify_musicas\")\n",
    "\n",
    "df_historico_com_estilo = (\n",
    "    df_historico.alias(\"h\")\n",
    "    .join(\n",
    "        df_estilos_atualizada.alias(\"e\"),\n",
    "        [\n",
    "            col(\"h.master_metadata_track_name\") == col(\"e.master_metadata_track_name\"),\n",
    "            col(\"h.master_metadata_album_artist_name\") == col(\"e.master_metadata_album_artist_name\"),\n",
    "            col(\"h.master_metadata_album_album_name\") == col(\"e.master_metadata_album_album_name\"),\n",
    "        ],\n",
    "        \"left\"\n",
    "    )\n",
    "    .select(\"h.*\", \"e.style\")\n",
    ")\n",
    "\n",
    "\n",
    "df_historico_com_estilo.write.mode(\"overwrite\").option(\"mergeSchema\", \"true\").saveAsTable(\"gold.spotify.streaming_history_com_estilos\")\n",
    "\n",
    "print(\"Tabela 'gold.spotify.streaming_history_com_estilos' criada com sucesso.\")"
   ]
  }
 ],
 "metadata": {
  "application/vnd.databricks.v1+notebook": {
   "computePreferences": null,
   "dashboards": [],
   "environmentMetadata": {
    "base_environment": "",
    "environment_version": "3"
   },
   "inputWidgetPreferences": null,
   "language": "python",
   "notebookMetadata": {
    "mostRecentlyExecutedCommandWithImplicitDF": {
     "commandId": 7941861373358759,
     "dataframes": [
      "_sqldf"
     ]
    },
    "pythonIndentUnit": 4
   },
   "notebookName": "Estilos com Deep Seek",
   "widgets": {}
  },
  "language_info": {
   "name": "python"
  }
 },
 "nbformat": 4,
 "nbformat_minor": 0
}

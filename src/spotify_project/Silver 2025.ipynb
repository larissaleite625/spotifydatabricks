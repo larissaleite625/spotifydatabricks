{
 "cells": [
  {
   "cell_type": "code",
   "execution_count": 0,
   "metadata": {
    "application/vnd.databricks.v1+cell": {
     "cellMetadata": {},
     "inputWidgets": {},
     "nuid": "04d3980c-3ad0-4002-ae17-cacc9d050a50",
     "showTitle": false,
     "tableResultSettingsMap": {},
     "title": ""
    }
   },
   "outputs": [],
   "source": [
    "from pyspark.sql.functions import col, to_timestamp, year, month, hour, lit"
   ]
  },
  {
   "cell_type": "code",
   "execution_count": 0,
   "metadata": {
    "application/vnd.databricks.v1+cell": {
     "cellMetadata": {
      "byteLimit": 2048000,
      "rowLimit": 10000
     },
     "inputWidgets": {},
     "nuid": "e9cac46d-44e7-4f99-988f-d6bad4c10a27",
     "showTitle": false,
     "tableResultSettingsMap": {},
     "title": ""
    }
   },
   "outputs": [],
   "source": [
    "df1 = spark.table(\"bronze.spotify.streaming_history_audio_2024_2025_10\")\n",
    "\n",
    "df1_filtred = df1.filter(df1[\"ts\"] >= \"2025-01-01\") "
   ]
  },
  {
   "cell_type": "code",
   "execution_count": 0,
   "metadata": {
    "application/vnd.databricks.v1+cell": {
     "cellMetadata": {
      "byteLimit": 2048000,
      "rowLimit": 10000
     },
     "inputWidgets": {},
     "nuid": "c0e0bbc9-cbcc-41d1-a23c-97b24ffe661d",
     "showTitle": false,
     "tableResultSettingsMap": {},
     "title": ""
    }
   },
   "outputs": [],
   "source": [
    "df2 = spark.table(\"bronze.spotify.streaming_history_audio_2025_11\")\n",
    "\n",
    "df_union = df1_filtred.unionByName(df2, allowMissingColumns=True)\n",
    "\n",
    "df_union = df_union.withColumn('ts', to_timestamp(col('ts')))\n",
    "df_union = df_union.withColumn('year', year(col('ts')))\n",
    "df_union = df_union.withColumn('month', month(col('ts')))\n",
    "df_union = df_union.withColumn('hour', hour(col('ts')))\n",
    "df_union = df_union.withColumn('minutes_played', col('ms_played') / 60000)\n",
    "df_union = df_union.withColumn('hours_played', col('ms_played') / 3600000)\n",
    "df_union = df_union.withColumn('username', lit(\"namiiara\"))\n",
    "\n",
    "columns_to_check = [\n",
    "    'master_metadata_track_name',\n",
    "    'master_metadata_album_artist_name',\n",
    "    'master_metadata_album_album_name',\n",
    "    'spotify_track_uri'\n",
    "]\n",
    "df_nona = df_union.dropna(subset=columns_to_check)\n",
    "df_stringnull = df_nona.filter(\n",
    "    (col(\"master_metadata_track_name\") != 'null') &\n",
    "    (col(\"master_metadata_album_artist_name\") != 'null') &\n",
    "    (col(\"master_metadata_album_album_name\") != 'null') &\n",
    "    (col(\"spotify_track_uri\") != 'null')\n",
    ")\n",
    "\n",
    "df_cast = df_stringnull.withColumn(\"offline\", col(\"offline\").cast(\"string\")) \\\n",
    "                      .withColumn(\"skipped\", col(\"skipped\").cast(\"string\")) \\\n",
    "                      .withColumn(\"offline_timestamp\", col(\"offline_timestamp\").cast(\"string\"))\n",
    "\n",
    "df_2025 = df_cast.select(\n",
    "    \"ts\",\n",
    "    \"username\",\n",
    "    \"platform\",\n",
    "    \"ms_played\",\n",
    "    \"master_metadata_track_name\",\n",
    "    \"master_metadata_album_artist_name\",\n",
    "    \"master_metadata_album_album_name\",\n",
    "    \"spotify_track_uri\",\n",
    "    \"reason_start\",\n",
    "    \"reason_end\",\n",
    "    \"shuffle\",\n",
    "    \"skipped\",\n",
    "    \"offline\",\n",
    "    \"offline_timestamp\",\n",
    "    \"incognito_mode\",\n",
    "    \"year\",\n",
    "    \"month\",\n",
    "    \"hour\",\n",
    "    \"minutes_played\",\n",
    "    \"hours_played\"\n",
    ")\n",
    "\n",
    "df_2025.write.mode(\"overwrite\").option(\"mergeSchema\", \"true\").saveAsTable(\"silver.spotify_eng.streaming_history_202509\")"
   ]
  },
  {
   "cell_type": "code",
   "execution_count": 0,
   "metadata": {
    "application/vnd.databricks.v1+cell": {
     "cellMetadata": {
      "byteLimit": 2048000,
      "rowLimit": 10000
     },
     "inputWidgets": {},
     "nuid": "faff61ee-72f7-4035-9ab6-1aeed8c190d5",
     "showTitle": false,
     "tableResultSettingsMap": {
      "0": {
       "dataGridStateBlob": "{\"version\":1,\"tableState\":{\"columnPinning\":{\"left\":[\"#row_number#\"],\"right\":[]},\"columnSizing\":{},\"columnVisibility\":{}},\"settings\":{\"columns\":{}},\"syncTimestamp\":1757815007303}",
       "filterBlob": null,
       "queryPlanFiltersBlob": null,
       "tableResultIndex": 0
      }
     },
     "title": ""
    }
   },
   "outputs": [],
   "source": [
    "display(df_2025)"
   ]
  },
  {
   "cell_type": "code",
   "execution_count": 0,
   "metadata": {
    "application/vnd.databricks.v1+cell": {
     "cellMetadata": {
      "byteLimit": 2048000,
      "rowLimit": 10000
     },
     "inputWidgets": {},
     "nuid": "5fd4da8e-d6f7-43dc-86bd-569c5a43c097",
     "showTitle": false,
     "tableResultSettingsMap": {},
     "title": ""
    }
   },
   "outputs": [],
   "source": [
    "display(df_2025.schema)\n",
    "\n",
    "print(\"\\n\")\n",
    "display(df_2014_2024.schema)"
   ]
  },
  {
   "cell_type": "code",
   "execution_count": 0,
   "metadata": {
    "application/vnd.databricks.v1+cell": {
     "cellMetadata": {
      "byteLimit": 2048000,
      "rowLimit": 10000
     },
     "inputWidgets": {},
     "nuid": "3ca7c416-58b3-428f-9bcf-7ebbd6c49089",
     "showTitle": false,
     "tableResultSettingsMap": {},
     "title": ""
    }
   },
   "outputs": [],
   "source": [
    "df_2014_2024 = spark.table(\"silver.spotify_eng.spotify_analise_2014_2024\")\n",
    "\n",
    "df_2014_2025 = df_2025.unionByName(df_2014_2024, allowMissingColumns=False)\n",
    "\n",
    "df_2014_2025.write.mode(\"overwrite\").option(\"mergeSchema\", \"true\").saveAsTable(\"silver.spotify_eng.streaming_history_2014_202509\")"
   ]
  }
 ],
 "metadata": {
  "application/vnd.databricks.v1+notebook": {
   "computePreferences": null,
   "dashboards": [],
   "environmentMetadata": {
    "base_environment": "",
    "environment_version": "3"
   },
   "inputWidgetPreferences": null,
   "language": "python",
   "notebookMetadata": {
    "mostRecentlyExecutedCommandWithImplicitDF": {
     "commandId": 7941861373358753,
     "dataframes": [
      "_sqldf"
     ]
    },
    "pythonIndentUnit": 4
   },
   "notebookName": "Silver 2025",
   "widgets": {}
  },
  "language_info": {
   "name": "python"
  }
 },
 "nbformat": 4,
 "nbformat_minor": 0
}

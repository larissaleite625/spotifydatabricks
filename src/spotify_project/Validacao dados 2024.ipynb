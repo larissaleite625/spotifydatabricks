{
 "cells": [
  {
   "cell_type": "markdown",
   "metadata": {
    "application/vnd.databricks.v1+cell": {
     "cellMetadata": {
      "byteLimit": 2048000,
      "rowLimit": 10000
     },
     "inputWidgets": {},
     "nuid": "2a891655-13e4-465e-9d9e-3023304db25e",
     "showTitle": false,
     "tableResultSettingsMap": {},
     "title": ""
    }
   },
   "source": [
    "#Avaliar exclusão de dados de 2024\n",
    "\n",
    "Se tiver dados desse mesmo período repetidos, preciso limpar, pois estarão duplicados, pois agora só preciso de dados de 2025."
   ]
  },
  {
   "cell_type": "code",
   "execution_count": 0,
   "metadata": {
    "application/vnd.databricks.v1+cell": {
     "cellMetadata": {
      "byteLimit": 2048000,
      "rowLimit": 10000
     },
     "inputWidgets": {},
     "nuid": "c6450229-226a-4d9e-8186-6dce9ca41e23",
     "showTitle": false,
     "tableResultSettingsMap": {
      "0": {
       "dataGridStateBlob": "{\"version\":1,\"tableState\":{\"columnPinning\":{\"left\":[\"#row_number#\"],\"right\":[]},\"columnSizing\":{},\"columnVisibility\":{}},\"settings\":{\"columns\":{}},\"syncTimestamp\":1757806944653}",
       "filterBlob": null,
       "queryPlanFiltersBlob": null,
       "tableResultIndex": 0
      }
     },
     "title": ""
    }
   },
   "outputs": [],
   "source": [
    "df = spark.table(\"bronze.spotify.streaming_history_audio_2024_2025_10\")\n",
    "df = df.select(\n",
    "    \"master_metadata_album_album_name\",\n",
    "    \"master_metadata_album_artist_name\",\n",
    "    \"master_metadata_track_name\",\n",
    "    \"ms_played\",\n",
    "    \"offline_timestamp\",\n",
    "    \"platform\",\n",
    "    \"reason_end\",\n",
    "    \"reason_start\",\n",
    "    \"shuffle\",\n",
    "    \"skipped\",\n",
    "    \"spotify_track_uri\",\n",
    "    \"ts\"\n",
    ")\n",
    "display(df)"
   ]
  },
  {
   "cell_type": "code",
   "execution_count": 0,
   "metadata": {
    "application/vnd.databricks.v1+cell": {
     "cellMetadata": {
      "byteLimit": 2048000,
      "rowLimit": 10000
     },
     "inputWidgets": {},
     "nuid": "5e79972f-deb9-45b4-9c54-3a097316e73e",
     "showTitle": false,
     "tableResultSettingsMap": {},
     "title": ""
    }
   },
   "outputs": [],
   "source": [
    "from pyspark.sql.functions import min, max\n",
    "\n",
    "display(df.select(min(\"ts\").alias(\"min_ts\")))"
   ]
  },
  {
   "cell_type": "code",
   "execution_count": 0,
   "metadata": {
    "application/vnd.databricks.v1+cell": {
     "cellMetadata": {
      "byteLimit": 2048000,
      "rowLimit": 10000
     },
     "inputWidgets": {},
     "nuid": "0ebf3222-a371-47e6-9871-6d0b09b82998",
     "showTitle": false,
     "tableResultSettingsMap": {},
     "title": ""
    }
   },
   "outputs": [],
   "source": [
    "display(df.select(max(\"ts\").alias(\"max_ts\")))"
   ]
  },
  {
   "cell_type": "code",
   "execution_count": 0,
   "metadata": {
    "application/vnd.databricks.v1+cell": {
     "cellMetadata": {
      "byteLimit": 2048000,
      "rowLimit": 10000
     },
     "inputWidgets": {},
     "nuid": "c3df6322-7ede-4a9b-a131-5e1c9c7a7524",
     "showTitle": false,
     "tableResultSettingsMap": {
      "0": {
       "dataGridStateBlob": "{\"version\":1,\"tableState\":{\"columnPinning\":{\"left\":[\"#row_number#\"],\"right\":[]},\"columnSizing\":{},\"columnVisibility\":{}},\"settings\":{\"columns\":{}},\"syncTimestamp\":1757807546287}",
       "filterBlob": null,
       "queryPlanFiltersBlob": null,
       "tableResultIndex": 0
      }
     },
     "title": ""
    }
   },
   "outputs": [],
   "source": [
    "from pyspark.sql.functions import col\n",
    "\n",
    "df_2024 = df.filter(col(\"ts\").between(\"2024-01-01\", \"2024-12-31\"))\n",
    "silver_df = spark.table(\"silver.spotify_eng.tb_spotify_analise\").filter(\n",
    "    (col(\"ts\") >= \"2024-12-24T15:01:14.000+00:00\") & (col(\"ts\") <= \"2024-12-31\")\n",
    ")\n",
    "\n",
    "join_keys = [\n",
    "    \"ts\",\n",
    "    \"master_metadata_album_album_name\",\n",
    "    \"master_metadata_album_artist_name\",\n",
    "    \"master_metadata_track_name\",\n",
    "    \"ms_played\",\n",
    "    \"platform\",\n",
    "    \"reason_end\",\n",
    "    \"reason_start\",\n",
    "    \"shuffle\",\n",
    "    \"skipped\",\n",
    "    \"spotify_track_uri\",\n",
    "    \"offline_timestamp\"\n",
    "]\n",
    "\n",
    "left_exclusive = df_2024.join(silver_df, on=join_keys, how=\"left_anti\")\n",
    "right_exclusive = silver_df.join(df_2024, on=join_keys, how=\"left_anti\")\n",
    "\n",
    "left_exclusive_selected = left_exclusive.select(\"spotify_track_uri\", \"ts\",  \"master_metadata_album_album_name\",\"master_metadata_album_artist_name\", \"master_metadata_track_name\")\n",
    "right_exclusive_selected = right_exclusive.select(\"spotify_track_uri\", \"ts\",  \"master_metadata_album_album_name\",\"master_metadata_album_artist_name\", \"master_metadata_track_name\")\n",
    "\n",
    "full_outer_exclusive = left_exclusive_selected.union(right_exclusive_selected)\n",
    "\n",
    "display(full_outer_exclusive)"
   ]
  },
  {
   "cell_type": "markdown",
   "metadata": {
    "application/vnd.databricks.v1+cell": {
     "cellMetadata": {
      "byteLimit": 2048000,
      "rowLimit": 10000
     },
     "inputWidgets": {},
     "nuid": "312b3c2e-089d-4cbc-b1bb-a78ac8912011",
     "showTitle": false,
     "tableResultSettingsMap": {},
     "title": ""
    }
   },
   "source": [
    "# Validar união de 2025\n",
    "Validar se posso fazer uma união sem medo das tabelas de 2025\n"
   ]
  },
  {
   "cell_type": "code",
   "execution_count": 0,
   "metadata": {
    "application/vnd.databricks.v1+cell": {
     "cellMetadata": {
      "byteLimit": 2048000,
      "rowLimit": 10000
     },
     "inputWidgets": {},
     "nuid": "a7115136-8708-42c4-99c3-8e622247ce4e",
     "showTitle": false,
     "tableResultSettingsMap": {
      "0": {
       "dataGridStateBlob": "{\"version\":1,\"tableState\":{\"columnPinning\":{\"left\":[\"#row_number#\"],\"right\":[]},\"columnSizing\":{},\"columnVisibility\":{}},\"settings\":{\"columns\":{}},\"syncTimestamp\":1757809254573}",
       "filterBlob": null,
       "queryPlanFiltersBlob": null,
       "tableResultIndex": 0
      }
     },
     "title": ""
    }
   },
   "outputs": [],
   "source": [
    "df1_2025 = df.filter(col(\"ts\") >= \"2025-01-01\")\n",
    "\n",
    "df2_2025 = spark.table(\"bronze.spotify.streaming_history_audio_2025_11\")\n",
    "\n",
    "join_keys = [\n",
    "    \"ts\",\n",
    "    \"master_metadata_album_album_name\",\n",
    "    \"master_metadata_album_artist_name\",\n",
    "    \"master_metadata_track_name\",\n",
    "    \"ms_played\",\n",
    "    \"platform\",\n",
    "    \"reason_end\",\n",
    "    \"reason_start\",\n",
    "    \"shuffle\",\n",
    "    \"skipped\",\n",
    "    \"spotify_track_uri\",\n",
    "    \"offline_timestamp\",\n",
    "]\n",
    "\n",
    "inner_exclusive = df1_2025.join(df2_2025, on=join_keys, how=\"inner\")\n",
    "display(inner_exclusive)\n"
   ]
  },
  {
   "cell_type": "code",
   "execution_count": 0,
   "metadata": {
    "application/vnd.databricks.v1+cell": {
     "cellMetadata": {
      "byteLimit": 2048000,
      "rowLimit": 10000
     },
     "inputWidgets": {},
     "nuid": "b2118b3c-3f29-4bfc-bb4c-afe4f482d8d5",
     "showTitle": false,
     "tableResultSettingsMap": {},
     "title": ""
    }
   },
   "outputs": [],
   "source": [
    "display(df1_2025.select(min(\"ts\").alias(\"min_ts\"), max(\"ts\").alias(\"max_ts\")))\n",
    "display(df2_2025.select(min(\"ts\").alias(\"min_ts\"), max(\"ts\").alias(\"max_ts\")))"
   ]
  }
 ],
 "metadata": {
  "application/vnd.databricks.v1+notebook": {
   "computePreferences": null,
   "dashboards": [],
   "environmentMetadata": {
    "base_environment": "",
    "environment_version": "3"
   },
   "inputWidgetPreferences": null,
   "language": "python",
   "notebookMetadata": {
    "pythonIndentUnit": 4
   },
   "notebookName": "Validacao dados 2024",
   "widgets": {}
  },
  "language_info": {
   "name": "python"
  }
 },
 "nbformat": 4,
 "nbformat_minor": 0
}

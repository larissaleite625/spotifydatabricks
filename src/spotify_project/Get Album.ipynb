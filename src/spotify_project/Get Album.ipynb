{
 "cells": [
  {
   "cell_type": "code",
   "execution_count": 0,
   "metadata": {
    "application/vnd.databricks.v1+cell": {
     "cellMetadata": {
      "byteLimit": 2048000,
      "rowLimit": 10000
     },
     "inputWidgets": {},
     "nuid": "6feda391-b266-4546-8a95-c75928e3c7c1",
     "showTitle": false,
     "tableResultSettingsMap": {},
     "title": ""
    }
   },
   "outputs": [],
   "source": [
    "import requests\n",
    "import base64\n",
    "import json\n",
    "from pyspark.sql.functions import col, split, element_at, rand\n",
    "from delta.tables import DeltaTable"
   ]
  },
  {
   "cell_type": "code",
   "execution_count": 0,
   "metadata": {
    "application/vnd.databricks.v1+cell": {
     "cellMetadata": {
      "byteLimit": 2048000,
      "rowLimit": 10000
     },
     "inputWidgets": {},
     "nuid": "3f5a450e-52a1-41f2-9b8f-3bd52266b32a",
     "showTitle": false,
     "tableResultSettingsMap": {},
     "title": ""
    }
   },
   "outputs": [],
   "source": [
    "CLIENT_ID = dbutils.secrets.get(scope=\"SPOTIFY\", key=\"SPOTIFY_CLIENT_ID\")\n",
    "CLIENT_SECRET = dbutils.secrets.get(scope=\"SPOTIFY\", key=\"SPOTIFY_CLIENT_SECRET\")"
   ]
  },
  {
   "cell_type": "code",
   "execution_count": 0,
   "metadata": {
    "application/vnd.databricks.v1+cell": {
     "cellMetadata": {
      "byteLimit": 2048000,
      "rowLimit": 10000
     },
     "inputWidgets": {},
     "nuid": "fe7bb549-79de-4042-adcd-4c3ad03113c6",
     "showTitle": false,
     "tableResultSettingsMap": {},
     "title": ""
    }
   },
   "outputs": [],
   "source": [
    "access_token = get_spotify_token(CLIENT_ID, CLIENT_SECRET)"
   ]
  },
  {
   "cell_type": "code",
   "execution_count": 0,
   "metadata": {
    "application/vnd.databricks.v1+cell": {
     "cellMetadata": {
      "byteLimit": 2048000,
      "rowLimit": 10000
     },
     "inputWidgets": {},
     "nuid": "add8071f-d90e-4631-8361-15afc8e0f4b6",
     "showTitle": false,
     "tableResultSettingsMap": {},
     "title": ""
    }
   },
   "outputs": [],
   "source": [
    "IDS_PARA_PROCESSAR = 15\n",
    "TABELA_HISTORICO = \"silver.spotify_eng.streaming_history_2014_202509\"\n",
    "TABELA_DETALHES_FINAL = \"silver.spotify_eng.getalbum\""
   ]
  },
  {
   "cell_type": "code",
   "execution_count": 0,
   "metadata": {
    "application/vnd.databricks.v1+cell": {
     "cellMetadata": {
      "byteLimit": 2048000,
      "rowLimit": 10000
     },
     "inputWidgets": {},
     "nuid": "1ce96901-250b-40b6-b534-fba4d2a5a1cb",
     "showTitle": false,
     "tableResultSettingsMap": {},
     "title": ""
    }
   },
   "outputs": [],
   "source": [
    "# VERIFICAÇÃO E SINCRONIZAÇÃO DE IDs\n",
    "print(\"A sincronizar IDs entre o histórico e a tabela de destino...\")\n",
    "\n",
    "df_ids_historico = (\n",
    "    spark.table(TABELA_HISTORICO).filter(col(\"spotify_track_uri\").isNotNull())\n",
    "    .withColumn(\"track_id\", element_at(split(col(\"spotify_track_uri\"), \":\"), -1))\n",
    "    .select(\"track_id\").distinct()\n",
    ")\n",
    "tabela_destino_delta = DeltaTable.forName(spark, TABELA_DESTINO)\n",
    "\n",
    "df_novos_ids_para_inserir = df_ids_historico.alias(\"hist\").join(\n",
    "    tabela_destino_delta.toDF().alias(\"dest\"),\n",
    "    col(\"hist.track_id\") == col(\"dest.track_id\"),\n",
    "    \"left_anti\"\n",
    ").withColumn(\"track_name\", lit(None).cast(\"string\")) # Adiciona uma coluna para o schema\n",
    "\n",
    "if df_novos_ids_para_inserir.count() > 0:\n",
    "    print(f\"Encontrados {df_novos_ids_para_inserir.count()} novos IDs no histórico. A inseri-los na tabela de destino...\")\n",
    "    (tabela_destino_delta.alias(\"target\")\n",
    "      .merge(df_novos_ids_para_inserir.alias(\"source\"), \"target.track_id = source.track_id\")\n",
    "      .whenNotMatchedInsert(values={\"track_id\": \"source.track_id\"})\n",
    "      .execute())\n",
    "else:\n",
    "    print(\"Sincronização concluída. Não foram encontrados novos IDs.\")"
   ]
  },
  {
   "cell_type": "code",
   "execution_count": 0,
   "metadata": {
    "application/vnd.databricks.v1+cell": {
     "cellMetadata": {
      "byteLimit": 2048000,
      "rowLimit": 10000
     },
     "inputWidgets": {},
     "nuid": "f2025d62-c125-448b-b216-0f64d78de8e7",
     "showTitle": false,
     "tableResultSettingsMap": {},
     "title": ""
    }
   },
   "outputs": [],
   "source": [
    "print(\"\\nA identificar faixas com detalhes em falta\")\n",
    "df_ids_pendentes = spark.table(TABELA_DESTINO).filter(col(\"track_name\").isNull()).select(\"track_id\")\n",
    "total_pendentes = df_ids_pendentes.count()\n",
    "print(f\"Total de faixas pendentes de enriquecimento: {total_pendentes}\")\n",
    "\n",
    "if total_pendentes == 0:\n",
    "    print(\"Todas as faixas já foram enriquecidas. Job concluído.\")\n",
    "    dbutils.notebook.exit(\"Processo finalizado.\")"
   ]
  },
  {
   "cell_type": "code",
   "execution_count": 0,
   "metadata": {
    "application/vnd.databricks.v1+cell": {
     "cellMetadata": {
      "byteLimit": 2048000,
      "rowLimit": 10000
     },
     "inputWidgets": {},
     "nuid": "b33394af-7022-4b75-88be-52b520cedaa5",
     "showTitle": false,
     "tableResultSettingsMap": {},
     "title": ""
    }
   },
   "outputs": [],
   "source": [
    "df_lote_aleatorio = df_ids_pendentes.orderBy(rand()).limit(IDS_PARA_PROCESSAR)\n",
    "ids_para_api = [row.track_id for row in df_lote_aleatorio.collect()]\n",
    "print(f\"Selecionado um lote aleatório de {len(ids_para_api)} IDs para processar.\")"
   ]
  },
  {
   "cell_type": "code",
   "execution_count": 0,
   "metadata": {
    "application/vnd.databricks.v1+cell": {
     "cellMetadata": {
      "byteLimit": 2048000,
      "rowLimit": 10000
     },
     "inputWidgets": {},
     "nuid": "689378ad-8a08-47ef-91b9-7e69d4561c9a",
     "showTitle": false,
     "tableResultSettingsMap": {},
     "title": ""
    }
   },
   "outputs": [],
   "source": [
    "def get_spotify_token(client_id, client_secret):\n",
    "    auth_url = 'https://accounts.spotify.com/api/token'\n",
    "    auth_header = base64.b64encode(f\"{client_id}:{client_secret}\".encode('utf-8')).decode('utf-8')\n",
    "    headers = {'Authorization': f'Basic {auth_header}'}\n",
    "    payload = {'grant_type': 'client_credentials'}\n",
    "    response = requests.post(auth_url, headers=headers, data=payload)\n",
    "    if response.status_code == 200: return response.json().get('access_token')\n",
    "    return None"
   ]
  },
  {
   "cell_type": "code",
   "execution_count": 0,
   "metadata": {
    "application/vnd.databricks.v1+cell": {
     "cellMetadata": {
      "byteLimit": 2048000,
      "rowLimit": 10000
     },
     "inputWidgets": {},
     "nuid": "52e18a6c-2225-4856-9677-3d9d6bb71003",
     "showTitle": false,
     "tableResultSettingsMap": {},
     "title": ""
    }
   },
   "outputs": [],
   "source": [
    "def get_track_details_json(track_ids, token):\n",
    "    if not token or not track_ids: return None\n",
    "    tracks_url = 'https://api.spotify.com/v1/tracks'\n",
    "    headers = {'Authorization': f'Bearer {token}'}\n",
    "    params = {'ids': \",\".join(track_ids)}\n",
    "    response = requests.get(tracks_url, headers=headers, params=params)\n",
    "    if response.status_code == 200: return response.json()\n",
    "    return None"
   ]
  },
  {
   "cell_type": "code",
   "execution_count": 0,
   "metadata": {
    "application/vnd.databricks.v1+cell": {
     "cellMetadata": {
      "byteLimit": 2048000,
      "rowLimit": 10000
     },
     "inputWidgets": {},
     "nuid": "fbb1afa6-8837-4aad-a7dc-737ef63a20d7",
     "showTitle": false,
     "tableResultSettingsMap": {},
     "title": ""
    }
   },
   "outputs": [],
   "source": [
    "json_response = get_track_details_json(ids_para_api, access_token)\n",
    "if not json_response or not json_response.get('tracks'): dbutils.notebook.exit(\"API não retornou dados.\")\n",
    "\n",
    "track_list_raw = [track for track in json_response.get('tracks', []) if track]\n",
    "flattened_track_list = []\n",
    "for track in track_list_raw:\n",
    "    album_info = track.get('album', {})\n",
    "    primary_artist = track.get('artists', [{}])[0] if track.get('artists') else {}\n",
    "    flattened_track_list.append({\n",
    "        \"track_id\": track.get('id'), \"track_name\": track.get('name'), \"track_popularity\": track.get('popularity'), \"track_uri\": track.get('uri'),\n",
    "        \"album_id\": album_info.get('id'), \"album_name\": album_info.get('name'), \"album_type\": album_info.get('album_type'), \"album_release_date\": album_info.get('release_date'),\n",
    "        \"album_release_date_precision\": album_info.get('release_date_precision'), \"album_total_tracks\": album_info.get('total_tracks'), \"album_uri\": album_info.get('uri'),\n",
    "        \"album_spotify_url\": album_info.get('external_urls', {}).get('spotify'),\n",
    "        \"album_image_url_large\": album_info.get('images', [{}])[0].get('url') if len(album_info.get('images', [])) > 0 else None,\n",
    "        \"album_image_url_medium\": album_info.get('images', [{}, {}])[1].get('url') if len(album_info.get('images', [])) > 1 else None,\n",
    "        \"album_image_url_small\": album_info.get('images', [{}, {}, {}])[2].get('url') if len(album_info.get('images', [])) > 2 else None,\n",
    "        \"artist_id\": primary_artist.get('id'), \"artist_name\": primary_artist.get('name'), \"artist_uri\": primary_artist.get('uri'),\n",
    "        \"artist_spotify_url\": primary_artist.get('external_urls', {}).get('spotify'),\n",
    "        \"album_available_markets\": \",\".join(album_info.get('available_markets', [])),\n",
    "        \"all_artist_names\": \", \".join([artist['name'] for artist in track.get('artists', [])]),\n",
    "    })\n",
    "\n",
    "if not flattened_track_list: dbutils.notebook.exit(\"Nenhum dado processado após achatamento.\")\n",
    "    \n",
    "df_novos_detalhes = spark.createDataFrame(flattened_track_list)\n",
    "print(f\"Foram obtidos detalhes para {df_novos_detalhes.count()} faixas.\")"
   ]
  },
  {
   "cell_type": "code",
   "execution_count": 0,
   "metadata": {
    "application/vnd.databricks.v1+cell": {
     "cellMetadata": {
      "byteLimit": 2048000,
      "rowLimit": 10000
     },
     "inputWidgets": {},
     "nuid": "3b6e5f7d-e17e-44e0-a038-3b6fe9d6f232",
     "showTitle": false,
     "tableResultSettingsMap": {},
     "title": ""
    }
   },
   "outputs": [],
   "source": [
    "(tabela_destino_delta.alias(\"target\")\n",
    "  .merge(\n",
    "    df_novos_detalhes.alias(\"source\"),\n",
    "    \"target.track_id = source.track_id\"\n",
    "  )\n",
    "  .whenMatchedUpdateAll() # Ação principal: ATUALIZA as colunas se o ID já existir\n",
    "  .execute()\n",
    ")\n",
    "\n",
    "print(f\"A tabela '{TABELA_DESTINO}' foi atualizada com sucesso.\")"
   ]
  }
 ],
 "metadata": {
  "application/vnd.databricks.v1+notebook": {
   "computePreferences": null,
   "dashboards": [],
   "environmentMetadata": {
    "base_environment": "",
    "environment_version": "3"
   },
   "inputWidgetPreferences": null,
   "language": "python",
   "notebookMetadata": {
    "mostRecentlyExecutedCommandWithImplicitDF": {
     "commandId": 7443297156184506,
     "dataframes": [
      "_sqldf"
     ]
    },
    "pythonIndentUnit": 4
   },
   "notebookName": "Get Album",
   "widgets": {}
  },
  "language_info": {
   "name": "python"
  }
 },
 "nbformat": 4,
 "nbformat_minor": 0
}

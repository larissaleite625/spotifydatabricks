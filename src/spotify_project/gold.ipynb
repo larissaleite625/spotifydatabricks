{
 "cells": [
  {
   "cell_type": "code",
   "execution_count": 0,
   "metadata": {
    "application/vnd.databricks.v1+cell": {
     "cellMetadata": {
      "byteLimit": 2048000,
      "rowLimit": 10000
     },
     "inputWidgets": {},
     "nuid": "941c7915-a10e-45dd-b7c5-e9acf4fc741b",
     "showTitle": false,
     "tableResultSettingsMap": {},
     "title": ""
    }
   },
   "outputs": [],
   "source": [
    "pip install OpenAI"
   ]
  },
  {
   "cell_type": "code",
   "execution_count": 0,
   "metadata": {
    "application/vnd.databricks.v1+cell": {
     "cellMetadata": {
      "byteLimit": 2048000,
      "rowLimit": 10000
     },
     "inputWidgets": {},
     "nuid": "f1a279d5-231e-4d09-9c5b-1f1f090e431c",
     "showTitle": false,
     "tableResultSettingsMap": {},
     "title": ""
    }
   },
   "outputs": [],
   "source": [
    "%pip install -U mlflow\n",
    "dbutils.library.restartPython()"
   ]
  },
  {
   "cell_type": "code",
   "execution_count": 0,
   "metadata": {
    "application/vnd.databricks.v1+cell": {
     "cellMetadata": {
      "byteLimit": 2048000,
      "rowLimit": 10000
     },
     "inputWidgets": {},
     "nuid": "5a07882b-bd78-4531-a694-d03b92db2c27",
     "showTitle": false,
     "tableResultSettingsMap": {},
     "title": ""
    }
   },
   "outputs": [],
   "source": [
    "import json, math, time, re\n",
    "from typing import List, Dict, Any\n",
    "from openai import OpenAI\n",
    "import mlflow\n",
    "mlflow.openai.autolog()\n",
    "\n",
    "from pyspark.sql.functions import col, lit, coalesce, substring_index, rand"
   ]
  },
  {
   "cell_type": "code",
   "execution_count": 0,
   "metadata": {
    "application/vnd.databricks.v1+cell": {
     "cellMetadata": {
      "byteLimit": 2048000,
      "rowLimit": 10000
     },
     "inputWidgets": {},
     "nuid": "9de1db4f-e1bb-4a79-ad2e-1d98118f70f2",
     "showTitle": false,
     "tableResultSettingsMap": {
      "0": {
       "dataGridStateBlob": "{\"version\":1,\"tableState\":{\"columnPinning\":{\"left\":[\"#row_number#\"],\"right\":[]},\"columnSizing\":{},\"columnVisibility\":{}},\"settings\":{\"columns\":{}},\"syncTimestamp\":1757821302451}",
       "filterBlob": null,
       "queryPlanFiltersBlob": null,
       "tableResultIndex": 0
      }
     },
     "title": ""
    }
   },
   "outputs": [],
   "source": [
    "df_historico = spark.table(\"silver.spotify_eng.streaming_history_2014_202509\")\n",
    "\n",
    "df_historico.printSchema()\n",
    "\n",
    "df_estilos = spark.table(\"gold.spotify.spotify_musicas\")\n",
    "\n",
    "df_estilos.printSchema()\n",
    "\n",
    "df_diff = df_historico.join(\n",
    "    df_estilos,\n",
    "    on=[\n",
    "        df_historico.master_metadata_track_name == df_estilos.master_metadata_track_name,\n",
    "        df_historico.master_metadata_album_artist_name == df_estilos.master_metadata_album_artist_name,\n",
    "        df_historico.master_metadata_album_album_name == df_estilos.master_metadata_album_album_name\n",
    "    ],\n",
    "    how=\"left\"\n",
    ").select (\n",
    "    df_historico.master_metadata_track_name,\n",
    "    df_historico.master_metadata_album_artist_name,\n",
    "    df_historico.master_metadata_album_album_name,\n",
    "    df_estilos.style\n",
    ")\n",
    "\n",
    "df_distinct = df_diff.distinct().filter(col(\"style\").isNull())\n",
    "\n",
    "display(df_distinct)"
   ]
  },
  {
   "cell_type": "code",
   "execution_count": 0,
   "metadata": {
    "application/vnd.databricks.v1+cell": {
     "cellMetadata": {
      "byteLimit": 2048000,
      "rowLimit": 10000
     },
     "inputWidgets": {},
     "nuid": "839ffe23-f810-4dea-b65f-ebafba43cf7d",
     "showTitle": false,
     "tableResultSettingsMap": {
      "0": {
       "dataGridStateBlob": "{\"version\":1,\"tableState\":{\"columnPinning\":{\"left\":[\"#row_number#\"],\"right\":[]},\"columnSizing\":{},\"columnVisibility\":{}},\"settings\":{\"columns\":{}},\"syncTimestamp\":1757821360907}",
       "filterBlob": null,
       "queryPlanFiltersBlob": null,
       "tableResultIndex": 0
      }
     },
     "title": ""
    }
   },
   "outputs": [],
   "source": [
    "display(df_estilos)"
   ]
  }
 ],
 "metadata": {
  "application/vnd.databricks.v1+notebook": {
   "computePreferences": null,
   "dashboards": [],
   "environmentMetadata": {
    "base_environment": "",
    "environment_version": "3"
   },
   "inputWidgetPreferences": null,
   "language": "python",
   "notebookMetadata": {
    "mostRecentlyExecutedCommandWithImplicitDF": {
     "commandId": 7941861373358759,
     "dataframes": [
      "_sqldf"
     ]
    },
    "pythonIndentUnit": 4
   },
   "notebookName": "gold",
   "widgets": {}
  },
  "language_info": {
   "name": "python"
  }
 },
 "nbformat": 4,
 "nbformat_minor": 0
}
